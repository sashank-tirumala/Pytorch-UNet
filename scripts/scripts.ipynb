{
 "cells": [
  {
   "cell_type": "code",
   "execution_count": 1,
   "metadata": {},
   "outputs": [
    {
     "name": "stdout",
     "output_type": "stream",
     "text": [
      "0\n"
     ]
    }
   ],
   "source": [
    "#preprocess all masks\n",
    "from pathlib import Path\n",
    "import shutil\n",
    "import numpy as np\n",
    "from PIL import Image\n",
    "import cv2\n",
    "mask_dir = Path(\"/home/sashank/data/work/datasets/003/train/masks/\")\n",
    "mask_proc_dir = Path(\"/home/sashank/data/work/datasets/003/train/masks_proc/\")\n",
    "if mask_proc_dir.exists():\n",
    "    shutil.rmtree(mask_proc_dir)\n",
    "mask_proc_dir.mkdir()\n",
    "mask_files = [x for x in mask_dir.glob(\"*.png\")]\n",
    "print(len(mask_files))\n",
    "for mask_file in mask_files:\n",
    "    img_arr = cv2.imread(str(mask_file), cv2.IMREAD_GRAYSCALE) \n",
    "    img_arr = cv2.resize(img_arr, (1280, 720), interpolation=cv2.INTER_NEAREST)\n",
    "    img_arr  = img_arr.copy()\n",
    "    #Blur the image with a Gaussian filter\n",
    "    img_arr = cv2.GaussianBlur(img_arr, (3, 3), 0)\n",
    "    #Threshold the image, this implementation is absolute\n",
    "    img_arr = cv2.threshold(img_arr, 0, 255, cv2.THRESH_BINARY | cv2.THRESH_OTSU)[1]\n",
    "    img_arr = img_arr.astype(np.uint8)\n",
    "    Image.fromarray(img_arr).save(mask_proc_dir / (mask_file.name.split(\".\")[0] + \".png\"))\n",
    "\n"
   ]
  },
  {
   "cell_type": "code",
   "execution_count": 21,
   "metadata": {},
   "outputs": [],
   "source": [
    "from pathlib import Path\n",
    "import pandas as pd\n",
    "import shutil\n",
    "labels_dir = Path(\"/home/sashank/Downloads/val_zed_labelled/\")\n",
    "labels_df = pd.read_csv(labels_dir / \"gt.csv\")\n",
    "dataset_dir = Path(\"/home/sashank/Downloads/val_zed_classify_labels/\")\n",
    "if dataset_dir.exists():\n",
    "    shutil.rmtree(dataset_dir)\n",
    "dataset_dir.mkdir()\n",
    "data_0 = dataset_dir / \"0\"\n",
    "data_1 = dataset_dir / \"1\"\n",
    "data_2 = dataset_dir / \"2\"\n",
    "data_0.mkdir()\n",
    "data_1.mkdir()\n",
    "data_2.mkdir()\n",
    "for i in [0,1,2]:\n",
    "    data_i = dataset_dir / str(i)\n",
    "    for index, row in labels_df.iterrows():\n",
    "        if row[\"label\"] == i:\n",
    "            shutil.copy(labels_dir / row[\"image\"], data_i / row[\"image\"])\n"
   ]
  },
  {
   "cell_type": "code",
   "execution_count": null,
   "metadata": {},
   "outputs": [],
   "source": [
    "#clean up dataset by removing any images in rgb folder that have no corresponding mask\n",
    "from pathlib import Path\n"
   ]
  }
 ],
 "metadata": {
  "kernelspec": {
   "display_name": "unet",
   "language": "python",
   "name": "python3"
  },
  "language_info": {
   "codemirror_mode": {
    "name": "ipython",
    "version": 3
   },
   "file_extension": ".py",
   "mimetype": "text/x-python",
   "name": "python",
   "nbconvert_exporter": "python",
   "pygments_lexer": "ipython3",
   "version": "3.11.4"
  },
  "orig_nbformat": 4
 },
 "nbformat": 4,
 "nbformat_minor": 2
}
